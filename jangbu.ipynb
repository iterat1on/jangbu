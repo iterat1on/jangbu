{
  "nbformat": 4,
  "nbformat_minor": 0,
  "metadata": {
    "colab": {
      "provenance": [],
      "authorship_tag": "ABX9TyPyTu1oZHxftGOUDs2Fzzc0",
      "include_colab_link": true
    },
    "kernelspec": {
      "name": "python3",
      "display_name": "Python 3"
    },
    "language_info": {
      "name": "python"
    }
  },
  "cells": [
    {
      "cell_type": "markdown",
      "metadata": {
        "id": "view-in-github",
        "colab_type": "text"
      },
      "source": [
        "<a href=\"https://colab.research.google.com/github/iterat1on/jangbu/blob/main/jangbu.ipynb\" target=\"_parent\"><img src=\"https://colab.research.google.com/assets/colab-badge.svg\" alt=\"Open In Colab\"/></a>"
      ]
    },
    {
      "cell_type": "code",
      "execution_count": 92,
      "metadata": {
        "id": "DyJiWCEkW9-o"
      },
      "outputs": [],
      "source": [
        "import pandas as pd"
      ]
    },
    {
      "cell_type": "code",
      "source": [
        "cock_per_1 = 76000 / (12 * 4) # 1타에 12개입, 4타 총 48개를 구매 24개만 일단 동아리용 24개는 개인사용 예정\n",
        "jangbu = pd.DataFrame({'회차':[],\n",
        "                       '코트대여비':[],\n",
        "                       '셔틀콕_총비용':[],\n",
        "                       '남은셔틀콕':[],\n",
        "                       '1인당_총비용' :[]})\n"
      ],
      "metadata": {
        "id": "CQIHOiNcXDg6"
      },
      "execution_count": 93,
      "outputs": []
    },
    {
      "cell_type": "code",
      "source": [
        "def calc_per_1(df, num_index, day_end, court_num, total_used_cock, total_people) :\n",
        "  cock_per_1 = 76000 / (12 * 4)\n",
        "  weekend_cost = 3200\n",
        "  weekday_cost = 2700\n",
        "  court_sum = court_num * weekend_cost if day_end == \"주말\" else court_num * weekday_cost\n",
        "  cock_sum = total_used_cock * cock_per_1\n",
        "  remained_cock = jangbu.loc[len(jangbu) - 1,[\"남은셔틀콕\"]].values[0] - total_used_cock if len(df) > 0 else 24 - total_used_cock\n",
        "\n",
        "  df.loc[len(df)] = [num_index, court_sum, cock_sum, remained_cock, (court_sum + cock_sum) / total_people]\n",
        "\n",
        "  return df\n",
        "\n",
        "# input 첫 번째는 jangbu\n",
        "# 두 번째는 회차\n",
        "# 세 번째는 \"평일\" / \"주말\"\n",
        "# 네 번째는 총 사용코트수\n",
        "# 다섯번째는 총 사용 셔틀콕갯수\n",
        "# 마지막은 총인원수\n"
      ],
      "metadata": {
        "id": "KPG_jGZKfCdN"
      },
      "execution_count": 94,
      "outputs": []
    },
    {
      "cell_type": "markdown",
      "source": [
        "# 1회차"
      ],
      "metadata": {
        "id": "NQjUvdT8jhuC"
      }
    },
    {
      "cell_type": "code",
      "source": [
        "jangbu = calc_per_1(jangbu, 1, \"주말\", 3, 7, 8)\n",
        "jangbu"
      ],
      "metadata": {
        "colab": {
          "base_uri": "https://localhost:8080/",
          "height": 81
        },
        "id": "-5kEnHzxX89e",
        "outputId": "c4df660d-b204-4319-acf2-2b0b7e77b1da"
      },
      "execution_count": 95,
      "outputs": [
        {
          "output_type": "execute_result",
          "data": {
            "text/plain": [
              "    회차   코트대여비       셔틀콕_총비용  남은셔틀콕      1인당_총비용\n",
              "0  1.0  9600.0  11083.333333   17.0  2585.416667"
            ],
            "text/html": [
              "\n",
              "  <div id=\"df-a03e5b00-f55a-4460-8387-4a9f840f227d\">\n",
              "    <div class=\"colab-df-container\">\n",
              "      <div>\n",
              "<style scoped>\n",
              "    .dataframe tbody tr th:only-of-type {\n",
              "        vertical-align: middle;\n",
              "    }\n",
              "\n",
              "    .dataframe tbody tr th {\n",
              "        vertical-align: top;\n",
              "    }\n",
              "\n",
              "    .dataframe thead th {\n",
              "        text-align: right;\n",
              "    }\n",
              "</style>\n",
              "<table border=\"1\" class=\"dataframe\">\n",
              "  <thead>\n",
              "    <tr style=\"text-align: right;\">\n",
              "      <th></th>\n",
              "      <th>회차</th>\n",
              "      <th>코트대여비</th>\n",
              "      <th>셔틀콕_총비용</th>\n",
              "      <th>남은셔틀콕</th>\n",
              "      <th>1인당_총비용</th>\n",
              "    </tr>\n",
              "  </thead>\n",
              "  <tbody>\n",
              "    <tr>\n",
              "      <th>0</th>\n",
              "      <td>1.0</td>\n",
              "      <td>9600.0</td>\n",
              "      <td>11083.333333</td>\n",
              "      <td>17.0</td>\n",
              "      <td>2585.416667</td>\n",
              "    </tr>\n",
              "  </tbody>\n",
              "</table>\n",
              "</div>\n",
              "      <button class=\"colab-df-convert\" onclick=\"convertToInteractive('df-a03e5b00-f55a-4460-8387-4a9f840f227d')\"\n",
              "              title=\"Convert this dataframe to an interactive table.\"\n",
              "              style=\"display:none;\">\n",
              "        \n",
              "  <svg xmlns=\"http://www.w3.org/2000/svg\" height=\"24px\"viewBox=\"0 0 24 24\"\n",
              "       width=\"24px\">\n",
              "    <path d=\"M0 0h24v24H0V0z\" fill=\"none\"/>\n",
              "    <path d=\"M18.56 5.44l.94 2.06.94-2.06 2.06-.94-2.06-.94-.94-2.06-.94 2.06-2.06.94zm-11 1L8.5 8.5l.94-2.06 2.06-.94-2.06-.94L8.5 2.5l-.94 2.06-2.06.94zm10 10l.94 2.06.94-2.06 2.06-.94-2.06-.94-.94-2.06-.94 2.06-2.06.94z\"/><path d=\"M17.41 7.96l-1.37-1.37c-.4-.4-.92-.59-1.43-.59-.52 0-1.04.2-1.43.59L10.3 9.45l-7.72 7.72c-.78.78-.78 2.05 0 2.83L4 21.41c.39.39.9.59 1.41.59.51 0 1.02-.2 1.41-.59l7.78-7.78 2.81-2.81c.8-.78.8-2.07 0-2.86zM5.41 20L4 18.59l7.72-7.72 1.47 1.35L5.41 20z\"/>\n",
              "  </svg>\n",
              "      </button>\n",
              "      \n",
              "  <style>\n",
              "    .colab-df-container {\n",
              "      display:flex;\n",
              "      flex-wrap:wrap;\n",
              "      gap: 12px;\n",
              "    }\n",
              "\n",
              "    .colab-df-convert {\n",
              "      background-color: #E8F0FE;\n",
              "      border: none;\n",
              "      border-radius: 50%;\n",
              "      cursor: pointer;\n",
              "      display: none;\n",
              "      fill: #1967D2;\n",
              "      height: 32px;\n",
              "      padding: 0 0 0 0;\n",
              "      width: 32px;\n",
              "    }\n",
              "\n",
              "    .colab-df-convert:hover {\n",
              "      background-color: #E2EBFA;\n",
              "      box-shadow: 0px 1px 2px rgba(60, 64, 67, 0.3), 0px 1px 3px 1px rgba(60, 64, 67, 0.15);\n",
              "      fill: #174EA6;\n",
              "    }\n",
              "\n",
              "    [theme=dark] .colab-df-convert {\n",
              "      background-color: #3B4455;\n",
              "      fill: #D2E3FC;\n",
              "    }\n",
              "\n",
              "    [theme=dark] .colab-df-convert:hover {\n",
              "      background-color: #434B5C;\n",
              "      box-shadow: 0px 1px 3px 1px rgba(0, 0, 0, 0.15);\n",
              "      filter: drop-shadow(0px 1px 2px rgba(0, 0, 0, 0.3));\n",
              "      fill: #FFFFFF;\n",
              "    }\n",
              "  </style>\n",
              "\n",
              "      <script>\n",
              "        const buttonEl =\n",
              "          document.querySelector('#df-a03e5b00-f55a-4460-8387-4a9f840f227d button.colab-df-convert');\n",
              "        buttonEl.style.display =\n",
              "          google.colab.kernel.accessAllowed ? 'block' : 'none';\n",
              "\n",
              "        async function convertToInteractive(key) {\n",
              "          const element = document.querySelector('#df-a03e5b00-f55a-4460-8387-4a9f840f227d');\n",
              "          const dataTable =\n",
              "            await google.colab.kernel.invokeFunction('convertToInteractive',\n",
              "                                                     [key], {});\n",
              "          if (!dataTable) return;\n",
              "\n",
              "          const docLinkHtml = 'Like what you see? Visit the ' +\n",
              "            '<a target=\"_blank\" href=https://colab.research.google.com/notebooks/data_table.ipynb>data table notebook</a>'\n",
              "            + ' to learn more about interactive tables.';\n",
              "          element.innerHTML = '';\n",
              "          dataTable['output_type'] = 'display_data';\n",
              "          await google.colab.output.renderOutput(dataTable, element);\n",
              "          const docLink = document.createElement('div');\n",
              "          docLink.innerHTML = docLinkHtml;\n",
              "          element.appendChild(docLink);\n",
              "        }\n",
              "      </script>\n",
              "    </div>\n",
              "  </div>\n",
              "  "
            ]
          },
          "metadata": {},
          "execution_count": 95
        }
      ]
    },
    {
      "cell_type": "markdown",
      "source": [
        "2회차"
      ],
      "metadata": {
        "id": "Nqa1zk_QZuuG"
      }
    },
    {
      "cell_type": "code",
      "source": [
        "#jangbu = calc_per_1(jangbu, 2, \"평일\", 3, 7, 8)\n",
        "#jangbu"
      ],
      "metadata": {
        "id": "I8sKV4AnhgOH"
      },
      "execution_count": 96,
      "outputs": []
    }
  ]
}